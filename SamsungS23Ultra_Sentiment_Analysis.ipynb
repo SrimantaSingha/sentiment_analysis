{
 "cells": [
  {
   "cell_type": "markdown",
   "metadata": {},
   "source": [
    "# Imports Library:"
   ]
  },
  {
   "cell_type": "code",
   "execution_count": 4,
   "metadata": {},
   "outputs": [],
   "source": [
    "import pandas as pd\n",
    "import numpy as np\n",
    "import contractions # To contraction words as 'don't' ---> 'do not'\n",
    "import re  \n",
    "import string\n",
    "from termcolor import colored \n",
    "from tqdm import tqdm \n",
    "import warnings \n",
    "warnings.filterwarnings(\"ignore\", category=FutureWarning) \n",
    "\n",
    "#--------------------------\n",
    "from sklearn.model_selection import StratifiedKFold\n",
    "from sklearn.utils.class_weight import compute_class_weight\n",
    "from sklearn.model_selection import train_test_split\n",
    "from sklearn.utils.class_weight import compute_class_weight\n",
    "from sklearn.utils import resample\n",
    "from sklearn.utils import shuffle\n",
    "from sklearn.metrics import confusion_matrix,classification_report\n",
    "\n",
    "# --------------------------\n",
    "from scipy.special import softmax\n",
    "\n",
    "# --------------------------\n",
    "import matplotlib.pyplot as plt\n",
    "import seaborn as sns  \n",
    "\n",
    "# ---------------------------\n",
    "from nltk.corpus import stopwords\n",
    "from nltk.stem import WordNetLemmatizer\n",
    "\n",
    "\n",
    "# ---------------------------\n",
    "from transformers import AutoModelForSequenceClassification, AutoTokenizer\n",
    "from transformers import BertTokenizer,BertModel\n",
    "\n",
    "# --------------------------\n",
    "from tensorflow.keras.preprocessing.text import Tokenizer\n",
    "from tensorflow.keras.preprocessing.sequence import pad_sequences\n",
    "from tensorflow.keras.models import Sequential\n",
    "from tensorflow.keras.layers import Dense, Embedding, LSTM,SpatialDropout1D\n",
    "from tensorflow.keras.utils import to_categorical\n",
    "\n",
    "#----------------------------\n",
    "import nlpaug.augmenter.word.context_word_embs as aug\n",
    "\n",
    "# ---------\n",
    "import torch\n",
    "import torch.nn as nn\n",
    "import shutil\n",
    "import sys\n",
    "import torch.optim as optim\n",
    "from torch.optim.lr_scheduler import StepLR\n",
    "from tqdm.auto import tqdm\n",
    "import joblib"
   ]
  },
  {
   "cell_type": "markdown",
   "metadata": {},
   "source": [
    "### Load Dataset:"
   ]
  },
  {
   "cell_type": "code",
   "execution_count": 16,
   "metadata": {},
   "outputs": [
    {
     "data": {
      "text/html": [
       "<div>\n",
       "<style scoped>\n",
       "    .dataframe tbody tr th:only-of-type {\n",
       "        vertical-align: middle;\n",
       "    }\n",
       "\n",
       "    .dataframe tbody tr th {\n",
       "        vertical-align: top;\n",
       "    }\n",
       "\n",
       "    .dataframe thead th {\n",
       "        text-align: right;\n",
       "    }\n",
       "</style>\n",
       "<table border=\"1\" class=\"dataframe\">\n",
       "  <thead>\n",
       "    <tr style=\"text-align: right;\">\n",
       "      <th></th>\n",
       "      <th>Comment</th>\n",
       "    </tr>\n",
       "  </thead>\n",
       "  <tbody>\n",
       "    <tr>\n",
       "      <th>0</th>\n",
       "      <td>Play on 🎮 with a super powerful processor and ...</td>\n",
       "    </tr>\n",
       "    <tr>\n",
       "      <th>1</th>\n",
       "      <td>I switched from the iPhone and am currently wa...</td>\n",
       "    </tr>\n",
       "    <tr>\n",
       "      <th>2</th>\n",
       "      <td>It was faster when I bought it.  Now my usage ...</td>\n",
       "    </tr>\n",
       "    <tr>\n",
       "      <th>3</th>\n",
       "      <td>I bought a S24</td>\n",
       "    </tr>\n",
       "    <tr>\n",
       "      <th>4</th>\n",
       "      <td>I have a S24</td>\n",
       "    </tr>\n",
       "  </tbody>\n",
       "</table>\n",
       "</div>"
      ],
      "text/plain": [
       "                                             Comment\n",
       "0  Play on 🎮 with a super powerful processor and ...\n",
       "1  I switched from the iPhone and am currently wa...\n",
       "2  It was faster when I bought it.  Now my usage ...\n",
       "3                                     I bought a S24\n",
       "4                                       I have a S24"
      ]
     },
     "execution_count": 16,
     "metadata": {},
     "output_type": "execute_result"
    }
   ],
   "source": [
    "data = pd.read_csv(\"SamsungS23Ultra.csv\")\n",
    "data.head()"
   ]
  },
  {
   "cell_type": "markdown",
   "metadata": {},
   "source": [
    "### EDA: Exploratory Data Analysis"
   ]
  },
  {
   "cell_type": "markdown",
   "metadata": {},
   "source": [
    "### Data Inspection:\n",
    "Examine the structure and contents of the dataset\n",
    "1. Extract the informations from the dataset and describes its each column values"
   ]
  },
  {
   "cell_type": "code",
   "execution_count": 17,
   "metadata": {},
   "outputs": [
    {
     "name": "stdout",
     "output_type": "stream",
     "text": [
      "\u001b[36mDataset Information:\u001b[0m\n",
      "<class 'pandas.core.frame.DataFrame'>\n",
      "RangeIndex: 2551 entries, 0 to 2550\n",
      "Data columns (total 1 columns):\n",
      " #   Column   Non-Null Count  Dtype \n",
      "---  ------   --------------  ----- \n",
      " 0   Comment  2551 non-null   object\n",
      "dtypes: object(1)\n",
      "memory usage: 20.1+ KB\n",
      "None\n",
      "\u001b[35m\n",
      "Descriptions of dataset:\u001b[0m\n",
      "       Comment\n",
      "count     2551\n",
      "unique    2524\n",
      "top     Boring\n",
      "freq         7\n"
     ]
    }
   ],
   "source": [
    "print(colored(\"Dataset Information:\", \"cyan\"))\n",
    "print(data.info())\n",
    "print(colored(\"\\nDescriptions of dataset:\", \"magenta\"))\n",
    "print(data.describe())"
   ]
  },
  {
   "cell_type": "markdown",
   "metadata": {},
   "source": [
    "### Missing values checking:\n",
    "1. Missing values checking and extract the rows having 'NAN' at least one column.\n",
    "   If so, replace 'NAN' by appropriate methods"
   ]
  },
  {
   "cell_type": "code",
   "execution_count": 18,
   "metadata": {},
   "outputs": [
    {
     "name": "stdout",
     "output_type": "stream",
     "text": [
      "\u001b[31mNumber of Null values on each columns are:\u001b[0m\n",
      "Comment    0\n",
      "dtype: int64\n",
      "\u001b[91m\n",
      "Rows having atleast one 'NAN':\u001b[0m\n"
     ]
    },
    {
     "data": {
      "text/html": [
       "<div>\n",
       "<style scoped>\n",
       "    .dataframe tbody tr th:only-of-type {\n",
       "        vertical-align: middle;\n",
       "    }\n",
       "\n",
       "    .dataframe tbody tr th {\n",
       "        vertical-align: top;\n",
       "    }\n",
       "\n",
       "    .dataframe thead th {\n",
       "        text-align: right;\n",
       "    }\n",
       "</style>\n",
       "<table border=\"1\" class=\"dataframe\">\n",
       "  <thead>\n",
       "    <tr style=\"text-align: right;\">\n",
       "      <th></th>\n",
       "      <th>Comment</th>\n",
       "    </tr>\n",
       "  </thead>\n",
       "  <tbody>\n",
       "  </tbody>\n",
       "</table>\n",
       "</div>"
      ],
      "text/plain": [
       "Empty DataFrame\n",
       "Columns: [Comment]\n",
       "Index: []"
      ]
     },
     "execution_count": 18,
     "metadata": {},
     "output_type": "execute_result"
    }
   ],
   "source": [
    "# Null values checking\n",
    "print(colored(\"Number of Null values on each columns are:\",'red'))\n",
    "print(data.isnull().sum())\n",
    "print(colored(\"\\nRows having atleast one 'NAN':\",'light_red'))\n",
    "data[data.isnull().any(axis=1)]"
   ]
  },
  {
   "cell_type": "markdown",
   "metadata": {},
   "source": [
    "This shows that dataset does not contain any null vales."
   ]
  },
  {
   "cell_type": "markdown",
   "metadata": {},
   "source": [
    "### Assign Sentiment to each comments using RoBERTa:\n",
    "RoBERTa (Robustly optimized BERT) approach with MODEL = \"cardiffnlp/twitter-roberta-base-sentiment\",\n",
    "labels each comments among one of the three labels {0: \"Negative\", 1: \"Neutral\", 2: \"Positive\"}."
   ]
  },
  {
   "cell_type": "code",
   "execution_count": 19,
   "metadata": {},
   "outputs": [],
   "source": [
    "# Define RoBERTa model\n",
    "MODEL = \"cardiffnlp/twitter-roberta-base-sentiment\"\n",
    "tokenizer = AutoTokenizer.from_pretrained(MODEL)\n",
    "model = AutoModelForSequenceClassification.from_pretrained(MODEL)"
   ]
  },
  {
   "cell_type": "code",
   "execution_count": 20,
   "metadata": {},
   "outputs": [],
   "source": [
    "# Define assigning function\n",
    "def Assign_Sentiment(text):\n",
    "    input = tokenizer(text,return_tensors=\"pt\",truncation=True,padding=True,max_length=512)\n",
    "    output = model(**input)\n",
    "    score = output[0][0].detach().numpy()\n",
    "    score = softmax(score)\n",
    "    index = np.argmax(score)\n",
    "    if index == 0:\n",
    "        return 'Negative'\n",
    "    elif index == 1:\n",
    "        return 'Neutral'\n",
    "    else:\n",
    "        return 'Positive'"
   ]
  },
  {
   "cell_type": "code",
   "execution_count": 25,
   "metadata": {},
   "outputs": [
    {
     "data": {
      "text/html": [
       "<div>\n",
       "<style scoped>\n",
       "    .dataframe tbody tr th:only-of-type {\n",
       "        vertical-align: middle;\n",
       "    }\n",
       "\n",
       "    .dataframe tbody tr th {\n",
       "        vertical-align: top;\n",
       "    }\n",
       "\n",
       "    .dataframe thead th {\n",
       "        text-align: right;\n",
       "    }\n",
       "</style>\n",
       "<table border=\"1\" class=\"dataframe\">\n",
       "  <thead>\n",
       "    <tr style=\"text-align: right;\">\n",
       "      <th></th>\n",
       "      <th>Comment</th>\n",
       "      <th>Sentiment</th>\n",
       "    </tr>\n",
       "  </thead>\n",
       "  <tbody>\n",
       "    <tr>\n",
       "      <th>0</th>\n",
       "      <td>Play on 🎮 with a super powerful processor and ...</td>\n",
       "      <td>Positive</td>\n",
       "    </tr>\n",
       "    <tr>\n",
       "      <th>1</th>\n",
       "      <td>I switched from the iPhone and am currently wa...</td>\n",
       "      <td>Positive</td>\n",
       "    </tr>\n",
       "    <tr>\n",
       "      <th>2</th>\n",
       "      <td>It was faster when I bought it.  Now my usage ...</td>\n",
       "      <td>Positive</td>\n",
       "    </tr>\n",
       "    <tr>\n",
       "      <th>3</th>\n",
       "      <td>I bought a S24</td>\n",
       "      <td>Neutral</td>\n",
       "    </tr>\n",
       "    <tr>\n",
       "      <th>4</th>\n",
       "      <td>I have a S24</td>\n",
       "      <td>Neutral</td>\n",
       "    </tr>\n",
       "  </tbody>\n",
       "</table>\n",
       "</div>"
      ],
      "text/plain": [
       "                                             Comment Sentiment\n",
       "0  Play on 🎮 with a super powerful processor and ...  Positive\n",
       "1  I switched from the iPhone and am currently wa...  Positive\n",
       "2  It was faster when I bought it.  Now my usage ...  Positive\n",
       "3                                     I bought a S24   Neutral\n",
       "4                                       I have a S24   Neutral"
      ]
     },
     "execution_count": 25,
     "metadata": {},
     "output_type": "execute_result"
    }
   ],
   "source": [
    "# Apply the function to the DataFrame\n",
    "data['Sentiment'] = data['Comment'].apply(lambda text: Assign_Sentiment(text))\n",
    "data.head()"
   ]
  },
  {
   "cell_type": "markdown",
   "metadata": {},
   "source": [
    "# Save the labeled data for future works:"
   ]
  },
  {
   "cell_type": "code",
   "execution_count": null,
   "metadata": {},
   "outputs": [
    {
     "data": {
      "text/plain": [
       "['Labeled_Sentiment_data.csv']"
      ]
     },
     "execution_count": 9,
     "metadata": {},
     "output_type": "execute_result"
    }
   ],
   "source": [
    "# Save labeled data\n",
    "joblib.dump(data,'Labeled_Sentiment_data.csv')"
   ]
  },
  {
   "cell_type": "markdown",
   "metadata": {},
   "source": [
    "# Sentiment wise inspect the comments:"
   ]
  },
  {
   "cell_type": "code",
   "execution_count": 26,
   "metadata": {},
   "outputs": [
    {
     "name": "stdout",
     "output_type": "stream",
     "text": [
      "\u001b[32mPositve comments:\u001b[0m\n",
      "0    Play on 🎮 with a super powerful processor and ...\n",
      "1    I switched from the iPhone and am currently wa...\n",
      "2    It was faster when I bought it.  Now my usage ...\n",
      "6                       Just bought s23 ultra today ❤️\n",
      "9                           Watching on my S23 Ultra 🥰\n",
      "Name: Comment, dtype: object\n",
      "\u001b[33m\n",
      "Neutral comments: \u001b[0m\n",
      "3                                        I bought a S24\n",
      "4                                          I have a S24\n",
      "5     Does anyone know that 2023 they released s23 u...\n",
      "7                                          Now astro 24\n",
      "15                                     Watching on S24U\n",
      "Name: Comment, dtype: object\n",
      "\u001b[91m\n",
      "Negative comments: \u001b[0m\n",
      "8     Dust and Water Resistance is a scam. I took my...\n",
      "10    Biggest POS phone ever made next to Apple garb...\n",
      "12    hiii PLEASE IF ANYBODY CAN ASWEAR ME I DO A MI...\n",
      "14                         Worthless mobile i ever hade\n",
      "18                               I lost my phone help 😢\n",
      "Name: Comment, dtype: object\n"
     ]
    }
   ],
   "source": [
    "# Positive comments\n",
    "print(colored('Positve comments:','green'))\n",
    "print(data['Comment'][data['Sentiment']=='Positive'][0:5])\n",
    "# Neutral comments\n",
    "print(colored(\"\\nNeutral comments: \",'yellow'))\n",
    "print(data['Comment'][data['Sentiment']=='Neutral'][0:5])\n",
    "# Negative commnets\n",
    "print(colored(\"\\nNegative comments: \",'light_red'))\n",
    "print(data['Comment'][data['Sentiment']=='Negative'][0:5])"
   ]
  },
  {
   "cell_type": "markdown",
   "metadata": {},
   "source": [
    "# Sentiment Diostribution:"
   ]
  },
  {
   "cell_type": "code",
   "execution_count": 27,
   "metadata": {},
   "outputs": [
    {
     "name": "stdout",
     "output_type": "stream",
     "text": [
      "\u001b[32mCounts of each sentiment: \u001b[0m\n",
      "Sentiment\n",
      "Positive    1180\n",
      "Neutral      834\n",
      "Negative     537\n",
      "Name: count, dtype: int64\n"
     ]
    }
   ],
   "source": [
    "# Count of sentiments\n",
    "print(colored('Counts of each sentiment: ','green'))\n",
    "print(data['Sentiment'].value_counts())"
   ]
  },
  {
   "cell_type": "markdown",
   "metadata": {},
   "source": [
    "### Plot sentiment distribution:"
   ]
  },
  {
   "cell_type": "code",
   "execution_count": 28,
   "metadata": {},
   "outputs": [
    {
     "data": {
      "image/png": "[encoded data removed]",
      "text/plain": [
       "<Figure size 640x480 with 1 Axes>"
      ]
     },
     "metadata": {},
     "output_type": "display_data"
    }
   ],
   "source": [
    "sns.countplot(x='Sentiment', data=data,palette='viridis')\n",
    "plt.title('Sentiment Distribution')\n",
    "plt.xlabel('Sentiment')\n",
    "plt.ylabel('Number of Comments')\n",
    "plt.show()"
   ]
  },
  {
   "cell_type": "markdown",
   "metadata": {},
   "source": [
    "It is showing us that sentiment distribution associated with given comments is skewed.It is skew towards the positive\n",
    "comments which is good for Samsung industry but the other classes(Negative,Neutral) impact are more important for this task purpose.\n",
    "According to the comments of this trailer, Negative comments will play significant role for our further analysis and will give evidence of future marketing of Samsung Galaxy S23 ultra."
   ]
  },
  {
   "cell_type": "markdown",
   "metadata": {},
   "source": [
    "# Balancing Data:"
   ]
  },
  {
   "cell_type": "code",
   "execution_count": 29,
   "metadata": {},
   "outputs": [
    {
     "name": "stdout",
     "output_type": "stream",
     "text": [
      "Before Blancing: \n",
      "\n",
      "Sentiment\n",
      "Positive    1180\n",
      "Neutral      834\n",
      "Negative     537\n",
      "Name: count, dtype: int64\n",
      "\u001b[32m\n",
      "Major class count: \u001b[0m 1180\n"
     ]
    }
   ],
   "source": [
    "# Sentiment class counts\n",
    "print(\"Before Blancing: \\n\")\n",
    "print(data['Sentiment'].value_counts())\n",
    "# Major class count\n",
    "majorclass_num = max(data['Sentiment'].value_counts())\n",
    "print(colored('\\nMajor class count: ','green'),majorclass_num)"
   ]
  },
  {
   "cell_type": "markdown",
   "metadata": {},
   "source": [
    "### Data Augmentation using BERT:"
   ]
  },
  {
   "cell_type": "code",
   "execution_count": 53,
   "metadata": {},
   "outputs": [],
   "source": [
    "# Load BERT base augmenter\n",
    "augmenter = aug.ContextualWordEmbsAug(model_path='bert-base-uncased',action='insert')"
   ]
  },
  {
   "cell_type": "code",
   "execution_count": 68,
   "metadata": {},
   "outputs": [],
   "source": [
    "# Data augmentation\n",
    "def DataAugmentation(df,augmenter,neu_samples,neg_samples,repetitions=1):\n",
    "    # Extract the neutral and negative comments\n",
    "    neutral_comments = df[df['Sentiment']=='Neutral'].reset_index(drop=True)\n",
    "    negative_comments = df[df['Sentiment']=='Negative'].reset_index(drop=True)\n",
    "    \n",
    "    #---------------------\n",
    "    # Augmenting newtral comments\n",
    "    aug_neutral = []\n",
    "   \n",
    "    for i in tqdm(np.random.choice(len(neutral_comments),neu_samples,replace=False)):\n",
    "        for _ in range(repetitions):\n",
    "            text = neutral_comments['Comment'].iloc[i]\n",
    "            aug_text = augmenter.augment(text)\n",
    "            aug_neutral.append(aug_text[0])\n",
    "    # Negative data dictionary\n",
    "    Neutral_data = {'Comment':aug_neutral,'Sentiment': 'Neutral'}\n",
    "    neu_df = pd.DataFrame(Neutral_data)\n",
    "    #-----------------\n",
    "    aug_negative = []\n",
    "    for i in tqdm(np.random.choice(len(negative_comments),neg_samples,replace=False)):\n",
    "        for _ in range(repetitions):\n",
    "            text = negative_comments['Comment'].iloc[i]\n",
    "            aug_text = augmenter.augment(text)\n",
    "            aug_negative.append(aug_text[0])\n",
    "    #  Neutral data dictionary\n",
    "    Negative_data ={'Comment':aug_negative,'Sentiment': 'Negative'}\n",
    "    neg_df = pd.DataFrame(Negative_data)\n",
    "\n",
    "    # Final augmentation\n",
    "    new_df = pd.concat([df,neg_df, neu_df])\n",
    "    return shuffle(new_df).reset_index(drop=True)"
   ]
  },
  {
   "cell_type": "code",
   "execution_count": 70,
   "metadata": {},
   "outputs": [
    {
     "name": "stderr",
     "output_type": "stream",
     "text": [
      "100%|██████████| 330/330 [00:42<00:00,  7.84it/s]\n",
      "100%|██████████| 520/520 [01:46<00:00,  4.88it/s]\n"
     ]
    }
   ],
   "source": [
    "# Augemented data\n",
    "Aug_Data = DataAugmentation(data,augmenter,330,520) # neu_samples=330, neg_samples=520"
   ]
  },
  {
   "cell_type": "markdown",
   "metadata": {},
   "source": [
    "# Save augmented final dataset:"
   ]
  },
  {
   "cell_type": "code",
   "execution_count": 82,
   "metadata": {},
   "outputs": [
    {
     "data": {
      "text/plain": [
       "['Augmented_Lebel_Data.csv']"
      ]
     },
     "execution_count": 82,
     "metadata": {},
     "output_type": "execute_result"
    }
   ],
   "source": [
    "# Save Augmented data\n",
    "joblib.dump(Aug_Data,'Augmented_Lebel_Data.csv')"
   ]
  },
  {
   "cell_type": "markdown",
   "metadata": {},
   "source": [
    "# Augmented data informations and its Sentiment distribution:"
   ]
  },
  {
   "cell_type": "code",
   "execution_count": 72,
   "metadata": {},
   "outputs": [
    {
     "name": "stdout",
     "output_type": "stream",
     "text": [
      "<class 'pandas.core.frame.DataFrame'>\n",
      "RangeIndex: 3401 entries, 0 to 3400\n",
      "Data columns (total 2 columns):\n",
      " #   Column     Non-Null Count  Dtype \n",
      "---  ------     --------------  ----- \n",
      " 0   Comment    3401 non-null   object\n",
      " 1   Sentiment  3401 non-null   object\n",
      "dtypes: object(2)\n",
      "memory usage: 53.3+ KB\n"
     ]
    }
   ],
   "source": [
    "Aug_Data.info()"
   ]
  },
  {
   "cell_type": "code",
   "execution_count": 74,
   "metadata": {},
   "outputs": [
    {
     "name": "stdout",
     "output_type": "stream",
     "text": [
      "After Blancing: \n",
      "\n",
      "Sentiment\n",
      "Positive    1180\n",
      "Neutral     1164\n",
      "Negative    1057\n",
      "Name: count, dtype: int64\n",
      "\u001b[32m\n",
      "Major class count: \u001b[0m 1180\n"
     ]
    }
   ],
   "source": [
    "# Sentiment class counts\n",
    "print(\"After Blancing: \\n\")\n",
    "print(Aug_Data['Sentiment'].value_counts())\n",
    "# Major class count\n",
    "majorclass_num = max(Aug_Data['Sentiment'].value_counts())\n",
    "print(colored('\\nMajor class count: ','green'),majorclass_num)"
   ]
  },
  {
   "cell_type": "code",
   "execution_count": 80,
   "metadata": {},
   "outputs": [
    {
     "data": {
      "image/png": "[encoded data removed]",
      "text/plain": [
       "<Figure size 800x500 with 1 Axes>"
      ]
     },
     "metadata": {},
     "output_type": "display_data"
    }
   ],
   "source": [
    "# Drawing distribution after data augmentation\n",
    "plt.figure(figsize=(8,5))\n",
    "sns.countplot(data=Aug_Data,x='Sentiment',palette='viridis')\n",
    "plt.title('Augmented data distribution')\n",
    "plt.xlabel('Sentiments')\n",
    "plt.ylabel('Counts')\n",
    "plt.show()\n"
   ]
  },
  {
   "cell_type": "code",
   "execution_count": 5,
   "metadata": {},
   "outputs": [
    {
     "data": {
      "text/html": [
       "<div>\n",
       "<style scoped>\n",
       "    .dataframe tbody tr th:only-of-type {\n",
       "        vertical-align: middle;\n",
       "    }\n",
       "\n",
       "    .dataframe tbody tr th {\n",
       "        vertical-align: top;\n",
       "    }\n",
       "\n",
       "    .dataframe thead th {\n",
       "        text-align: right;\n",
       "    }\n",
       "</style>\n",
       "<table border=\"1\" class=\"dataframe\">\n",
       "  <thead>\n",
       "    <tr style=\"text-align: right;\">\n",
       "      <th></th>\n",
       "      <th>Comment</th>\n",
       "      <th>Sentiment</th>\n",
       "    </tr>\n",
       "  </thead>\n",
       "  <tbody>\n",
       "    <tr>\n",
       "      <th>0</th>\n",
       "      <td>The best smartphone in the world</td>\n",
       "      <td>Positive</td>\n",
       "    </tr>\n",
       "    <tr>\n",
       "      <th>1</th>\n",
       "      <td>3 so... xx what'a s new? xx xd</td>\n",
       "      <td>Neutral</td>\n",
       "    </tr>\n",
       "    <tr>\n",
       "      <th>2</th>\n",
       "      <td>Oh !so nothing new</td>\n",
       "      <td>Neutral</td>\n",
       "    </tr>\n",
       "    <tr>\n",
       "      <th>3</th>\n",
       "      <td>these two new nokia phones have been comparati...</td>\n",
       "      <td>Negative</td>\n",
       "    </tr>\n",
       "    <tr>\n",
       "      <th>4</th>\n",
       "      <td>hey bro this ad jingle is so very tacky [UNK]</td>\n",
       "      <td>Negative</td>\n",
       "    </tr>\n",
       "  </tbody>\n",
       "</table>\n",
       "</div>"
      ],
      "text/plain": [
       "                                             Comment Sentiment\n",
       "0                   The best smartphone in the world  Positive\n",
       "1                     3 so... xx what'a s new? xx xd   Neutral\n",
       "2                                 Oh !so nothing new   Neutral\n",
       "3  these two new nokia phones have been comparati...  Negative\n",
       "4      hey bro this ad jingle is so very tacky [UNK]  Negative"
      ]
     },
     "execution_count": 5,
     "metadata": {},
     "output_type": "execute_result"
    }
   ],
   "source": [
    "Final_data = joblib.load('Augmented_Lebel_Data.csv')\n",
    "Final_data.head()"
   ]
  },
  {
   "cell_type": "markdown",
   "metadata": {},
   "source": [
    "## Data Labeling:"
   ]
  },
  {
   "cell_type": "code",
   "execution_count": 6,
   "metadata": {},
   "outputs": [
    {
     "data": {
      "text/html": [
       "<div>\n",
       "<style scoped>\n",
       "    .dataframe tbody tr th:only-of-type {\n",
       "        vertical-align: middle;\n",
       "    }\n",
       "\n",
       "    .dataframe tbody tr th {\n",
       "        vertical-align: top;\n",
       "    }\n",
       "\n",
       "    .dataframe thead th {\n",
       "        text-align: right;\n",
       "    }\n",
       "</style>\n",
       "<table border=\"1\" class=\"dataframe\">\n",
       "  <thead>\n",
       "    <tr style=\"text-align: right;\">\n",
       "      <th></th>\n",
       "      <th>Comment</th>\n",
       "      <th>Sentiment</th>\n",
       "      <th>label</th>\n",
       "    </tr>\n",
       "  </thead>\n",
       "  <tbody>\n",
       "    <tr>\n",
       "      <th>0</th>\n",
       "      <td>The best smartphone in the world</td>\n",
       "      <td>Positive</td>\n",
       "      <td>2</td>\n",
       "    </tr>\n",
       "    <tr>\n",
       "      <th>1</th>\n",
       "      <td>3 so... xx what'a s new? xx xd</td>\n",
       "      <td>Neutral</td>\n",
       "      <td>0</td>\n",
       "    </tr>\n",
       "    <tr>\n",
       "      <th>2</th>\n",
       "      <td>Oh !so nothing new</td>\n",
       "      <td>Neutral</td>\n",
       "      <td>0</td>\n",
       "    </tr>\n",
       "    <tr>\n",
       "      <th>3</th>\n",
       "      <td>these two new nokia phones have been comparati...</td>\n",
       "      <td>Negative</td>\n",
       "      <td>1</td>\n",
       "    </tr>\n",
       "    <tr>\n",
       "      <th>4</th>\n",
       "      <td>hey bro this ad jingle is so very tacky [UNK]</td>\n",
       "      <td>Negative</td>\n",
       "      <td>1</td>\n",
       "    </tr>\n",
       "    <tr>\n",
       "      <th>5</th>\n",
       "      <td>Change the design bro😅</td>\n",
       "      <td>Neutral</td>\n",
       "      <td>0</td>\n",
       "    </tr>\n",
       "    <tr>\n",
       "      <th>6</th>\n",
       "      <td>Love  my Samsung ❤❤❤❤❤❤❤</td>\n",
       "      <td>Positive</td>\n",
       "      <td>2</td>\n",
       "    </tr>\n",
       "    <tr>\n",
       "      <th>7</th>\n",
       "      <td>i thought the girl was camila cabello</td>\n",
       "      <td>Neutral</td>\n",
       "      <td>0</td>\n",
       "    </tr>\n",
       "    <tr>\n",
       "      <th>8</th>\n",
       "      <td>My Infinix 2 years old is working in this year...</td>\n",
       "      <td>Positive</td>\n",
       "      <td>2</td>\n",
       "    </tr>\n",
       "    <tr>\n",
       "      <th>9</th>\n",
       "      <td>Kudos to SAMSUNG for giving powerful in all pa...</td>\n",
       "      <td>Positive</td>\n",
       "      <td>2</td>\n",
       "    </tr>\n",
       "  </tbody>\n",
       "</table>\n",
       "</div>"
      ],
      "text/plain": [
       "                                             Comment Sentiment  label\n",
       "0                   The best smartphone in the world  Positive      2\n",
       "1                     3 so... xx what'a s new? xx xd   Neutral      0\n",
       "2                                 Oh !so nothing new   Neutral      0\n",
       "3  these two new nokia phones have been comparati...  Negative      1\n",
       "4      hey bro this ad jingle is so very tacky [UNK]  Negative      1\n",
       "5                             Change the design bro😅   Neutral      0\n",
       "6                           Love  my Samsung ❤❤❤❤❤❤❤  Positive      2\n",
       "7              i thought the girl was camila cabello   Neutral      0\n",
       "8  My Infinix 2 years old is working in this year...  Positive      2\n",
       "9  Kudos to SAMSUNG for giving powerful in all pa...  Positive      2"
      ]
     },
     "metadata": {},
     "output_type": "display_data"
    },
    {
     "data": {
      "text/html": [
       "<div>\n",
       "<style scoped>\n",
       "    .dataframe tbody tr th:only-of-type {\n",
       "        vertical-align: middle;\n",
       "    }\n",
       "\n",
       "    .dataframe tbody tr th {\n",
       "        vertical-align: top;\n",
       "    }\n",
       "\n",
       "    .dataframe thead th {\n",
       "        text-align: right;\n",
       "    }\n",
       "</style>\n",
       "<table border=\"1\" class=\"dataframe\">\n",
       "  <thead>\n",
       "    <tr style=\"text-align: right;\">\n",
       "      <th></th>\n",
       "      <th>Comment</th>\n",
       "      <th>Sentiment</th>\n",
       "      <th>label</th>\n",
       "    </tr>\n",
       "  </thead>\n",
       "  <tbody>\n",
       "    <tr>\n",
       "      <th>3391</th>\n",
       "      <td>iPhone is better</td>\n",
       "      <td>Positive</td>\n",
       "      <td>2</td>\n",
       "    </tr>\n",
       "    <tr>\n",
       "      <th>3392</th>\n",
       "      <td>disappointed with samsung's decision to tempor...</td>\n",
       "      <td>Negative</td>\n",
       "      <td>1</td>\n",
       "    </tr>\n",
       "    <tr>\n",
       "      <th>3393</th>\n",
       "      <td>It's basically the same as my S22 Ultra just w...</td>\n",
       "      <td>Neutral</td>\n",
       "      <td>0</td>\n",
       "    </tr>\n",
       "    <tr>\n",
       "      <th>3394</th>\n",
       "      <td>not only the phone itself brings nothing new (...</td>\n",
       "      <td>Negative</td>\n",
       "      <td>1</td>\n",
       "    </tr>\n",
       "    <tr>\n",
       "      <th>3395</th>\n",
       "      <td>God, it's so good, Can I catch it!❣️🧗</td>\n",
       "      <td>Positive</td>\n",
       "      <td>2</td>\n",
       "    </tr>\n",
       "    <tr>\n",
       "      <th>3396</th>\n",
       "      <td>that one nearby share market ain ’ t as no goo...</td>\n",
       "      <td>Negative</td>\n",
       "      <td>1</td>\n",
       "    </tr>\n",
       "    <tr>\n",
       "      <th>3397</th>\n",
       "      <td>It looks just like like my 22 ultra with small...</td>\n",
       "      <td>Neutral</td>\n",
       "      <td>0</td>\n",
       "    </tr>\n",
       "    <tr>\n",
       "      <th>3398</th>\n",
       "      <td>Hit like if you’re waiting for iPhone 15 series.</td>\n",
       "      <td>Neutral</td>\n",
       "      <td>0</td>\n",
       "    </tr>\n",
       "    <tr>\n",
       "      <th>3399</th>\n",
       "      <td>can't lie , samsung are always innovative with...</td>\n",
       "      <td>Positive</td>\n",
       "      <td>2</td>\n",
       "    </tr>\n",
       "    <tr>\n",
       "      <th>3400</th>\n",
       "      <td>I wish Samsung launched a  5.4\" screen sized p...</td>\n",
       "      <td>Neutral</td>\n",
       "      <td>0</td>\n",
       "    </tr>\n",
       "  </tbody>\n",
       "</table>\n",
       "</div>"
      ],
      "text/plain": [
       "                                                Comment Sentiment  label\n",
       "3391                                   iPhone is better  Positive      2\n",
       "3392  disappointed with samsung's decision to tempor...  Negative      1\n",
       "3393  It's basically the same as my S22 Ultra just w...   Neutral      0\n",
       "3394  not only the phone itself brings nothing new (...  Negative      1\n",
       "3395              God, it's so good, Can I catch it!❣️🧗  Positive      2\n",
       "3396  that one nearby share market ain ’ t as no goo...  Negative      1\n",
       "3397  It looks just like like my 22 ultra with small...   Neutral      0\n",
       "3398   Hit like if you’re waiting for iPhone 15 series.   Neutral      0\n",
       "3399  can't lie , samsung are always innovative with...  Positive      2\n",
       "3400  I wish Samsung launched a  5.4\" screen sized p...   Neutral      0"
      ]
     },
     "metadata": {},
     "output_type": "display_data"
    }
   ],
   "source": [
    "label_map ={'Positive':2, 'Negative': 1,'Neutral':0}\n",
    "Final_data['label'] = Final_data['Sentiment'].map(label_map)\n",
    "display(Final_data.head(10))\n",
    "display(Final_data.tail(10))"
   ]
  },
  {
   "cell_type": "markdown",
   "metadata": {},
   "source": [
    "### Extract Feature & target variable :\n"
   ]
  },
  {
   "cell_type": "code",
   "execution_count": 7,
   "metadata": {},
   "outputs": [],
   "source": [
    "# Inputs text\n",
    "comments = Final_data['Comment'].values\n",
    "# Response for each text\n",
    "labels = Final_data['label'].values "
   ]
  },
  {
   "cell_type": "markdown",
   "metadata": {},
   "source": [
    "# BERT tokenizer hyperparametrs:"
   ]
  },
  {
   "cell_type": "code",
   "execution_count": 8,
   "metadata": {},
   "outputs": [],
   "source": [
    "MAX_LEN = 256\n",
    "TRAIN_BATCH_SIZE = 32\n",
    "VALID_BATCH_SIZE = 32\n",
    "EPOCHS = 5\n",
    "LEARNING_RATE = 1e-03"
   ]
  },
  {
   "cell_type": "markdown",
   "metadata": {},
   "source": [
    "# Defining BERT tokenizer:"
   ]
  },
  {
   "cell_type": "code",
   "execution_count": 9,
   "metadata": {},
   "outputs": [],
   "source": [
    "tokenizer = BertTokenizer.from_pretrained('bert-base-uncased')"
   ]
  },
  {
   "cell_type": "markdown",
   "metadata": {},
   "source": [
    "# Function that gives input ids and attention mask for each comment:"
   ]
  },
  {
   "cell_type": "code",
   "execution_count": 10,
   "metadata": {},
   "outputs": [],
   "source": [
    "class CustomDataset(torch.utils.data.Dataset):\n",
    "    def __init__(self,df,tokenizer,max_len):\n",
    "        self.df = df\n",
    "        self.tokenizer = tokenizer\n",
    "        self.max_len = max_len\n",
    "        self.comments = self.df['Comment']\n",
    "        self.labels = self.df['label'].values\n",
    "\n",
    "    def __len__(self):\n",
    "        return len(self.comments)\n",
    "    \n",
    "    def __getitem__(self,index):\n",
    "        comment = str(self.comments[index])\n",
    "        comment = \" \".join(comment.split())\n",
    "        label = int(self.df['label'].iloc[index])\n",
    "        inputs = self.tokenizer.encode_plus(\n",
    "            comment,\n",
    "            None,\n",
    "            add_special_tokens = True,\n",
    "            max_length = self.max_len,\n",
    "            padding = 'max_length',\n",
    "            truncation=True,\n",
    "            return_attention_mask = True,\n",
    "            return_tensors='pt'\n",
    "        )\n",
    "\n",
    "        return {\n",
    "            'inputs_ids':inputs.input_ids.flatten(),\n",
    "            'attention_mask':inputs.attention_mask.flatten(),\n",
    "            'token_type_ids': inputs.token_type_ids.flatten(),\n",
    "            'labels':torch.tensor(label,dtype=torch.long)\n",
    "        }"
   ]
  },
  {
   "cell_type": "markdown",
   "metadata": {},
   "source": [
    "# Splitting dataset into train and validation set:"
   ]
  },
  {
   "cell_type": "code",
   "execution_count": 11,
   "metadata": {},
   "outputs": [],
   "source": [
    "train_size = 0.7\n",
    "train_df = Final_data.sample(frac=train_size,random_state=200).reset_index(drop=True)\n",
    "val_df = Final_data.drop(train_df.index).reset_index(drop=True)\n"
   ]
  },
  {
   "cell_type": "code",
   "execution_count": 12,
   "metadata": {},
   "outputs": [
    {
     "data": {
      "text/html": [
       "<div>\n",
       "<style scoped>\n",
       "    .dataframe tbody tr th:only-of-type {\n",
       "        vertical-align: middle;\n",
       "    }\n",
       "\n",
       "    .dataframe tbody tr th {\n",
       "        vertical-align: top;\n",
       "    }\n",
       "\n",
       "    .dataframe thead th {\n",
       "        text-align: right;\n",
       "    }\n",
       "</style>\n",
       "<table border=\"1\" class=\"dataframe\">\n",
       "  <thead>\n",
       "    <tr style=\"text-align: right;\">\n",
       "      <th></th>\n",
       "      <th>Comment</th>\n",
       "      <th>Sentiment</th>\n",
       "      <th>label</th>\n",
       "    </tr>\n",
       "  </thead>\n",
       "  <tbody>\n",
       "    <tr>\n",
       "      <th>0</th>\n",
       "      <td>was this my dream fullfil</td>\n",
       "      <td>Neutral</td>\n",
       "      <td>0</td>\n",
       "    </tr>\n",
       "    <tr>\n",
       "      <th>1</th>\n",
       "      <td>Hopefully the reels will be better with the s2...</td>\n",
       "      <td>Positive</td>\n",
       "      <td>2</td>\n",
       "    </tr>\n",
       "    <tr>\n",
       "      <th>2</th>\n",
       "      <td>What a crazy time, we had all this bad stuff g...</td>\n",
       "      <td>Positive</td>\n",
       "      <td>2</td>\n",
       "    </tr>\n",
       "    <tr>\n",
       "      <th>3</th>\n",
       "      <td>What a nice trailor</td>\n",
       "      <td>Positive</td>\n",
       "      <td>2</td>\n",
       "    </tr>\n",
       "    <tr>\n",
       "      <th>4</th>\n",
       "      <td>I enjoy watching the international they are pr...</td>\n",
       "      <td>Positive</td>\n",
       "      <td>2</td>\n",
       "    </tr>\n",
       "  </tbody>\n",
       "</table>\n",
       "</div>"
      ],
      "text/plain": [
       "                                             Comment Sentiment  label\n",
       "0                          was this my dream fullfil   Neutral      0\n",
       "1  Hopefully the reels will be better with the s2...  Positive      2\n",
       "2  What a crazy time, we had all this bad stuff g...  Positive      2\n",
       "3                                What a nice trailor  Positive      2\n",
       "4  I enjoy watching the international they are pr...  Positive      2"
      ]
     },
     "metadata": {},
     "output_type": "display_data"
    },
    {
     "data": {
      "text/html": [
       "<div>\n",
       "<style scoped>\n",
       "    .dataframe tbody tr th:only-of-type {\n",
       "        vertical-align: middle;\n",
       "    }\n",
       "\n",
       "    .dataframe tbody tr th {\n",
       "        vertical-align: top;\n",
       "    }\n",
       "\n",
       "    .dataframe thead th {\n",
       "        text-align: right;\n",
       "    }\n",
       "</style>\n",
       "<table border=\"1\" class=\"dataframe\">\n",
       "  <thead>\n",
       "    <tr style=\"text-align: right;\">\n",
       "      <th></th>\n",
       "      <th>Comment</th>\n",
       "      <th>Sentiment</th>\n",
       "      <th>label</th>\n",
       "    </tr>\n",
       "  </thead>\n",
       "  <tbody>\n",
       "    <tr>\n",
       "      <th>0</th>\n",
       "      <td>What a beautyyy❤</td>\n",
       "      <td>Positive</td>\n",
       "      <td>2</td>\n",
       "    </tr>\n",
       "    <tr>\n",
       "      <th>1</th>\n",
       "      <td>SD 8 gen 2 more powerful than a15, and close t...</td>\n",
       "      <td>Positive</td>\n",
       "      <td>2</td>\n",
       "    </tr>\n",
       "    <tr>\n",
       "      <th>2</th>\n",
       "      <td>That's Awesome 😍😍😍😍</td>\n",
       "      <td>Positive</td>\n",
       "      <td>2</td>\n",
       "    </tr>\n",
       "    <tr>\n",
       "      <th>3</th>\n",
       "      <td>Thank you Samsung to be the same phone from th...</td>\n",
       "      <td>Positive</td>\n",
       "      <td>2</td>\n",
       "    </tr>\n",
       "    <tr>\n",
       "      <th>4</th>\n",
       "      <td>Samsung always innovative , even is this ad 🔥🔥</td>\n",
       "      <td>Positive</td>\n",
       "      <td>2</td>\n",
       "    </tr>\n",
       "  </tbody>\n",
       "</table>\n",
       "</div>"
      ],
      "text/plain": [
       "                                             Comment Sentiment  label\n",
       "0                                   What a beautyyy❤  Positive      2\n",
       "1  SD 8 gen 2 more powerful than a15, and close t...  Positive      2\n",
       "2                                That's Awesome 😍😍😍😍  Positive      2\n",
       "3  Thank you Samsung to be the same phone from th...  Positive      2\n",
       "4     Samsung always innovative , even is this ad 🔥🔥  Positive      2"
      ]
     },
     "metadata": {},
     "output_type": "display_data"
    },
    {
     "name": "stdout",
     "output_type": "stream",
     "text": [
      "(2381, 3) (1020, 3)\n"
     ]
    }
   ],
   "source": [
    "# Displaying train and validation data frame:\n",
    "display(train_df.head())\n",
    "display(val_df.head())\n",
    "\n",
    "print(train_df.shape, val_df.shape)"
   ]
  },
  {
   "cell_type": "code",
   "execution_count": 13,
   "metadata": {},
   "outputs": [],
   "source": [
    "# Train and validation data frame containg input_ids, attention mask and targets:\n",
    "train_dataset = CustomDataset(train_df,tokenizer,MAX_LEN)\n",
    "valid_dataset = CustomDataset(val_df,tokenizer,MAX_LEN)"
   ]
  },
  {
   "cell_type": "markdown",
   "metadata": {},
   "source": [
    "# Loading train and validation dataset into torch pipeline:"
   ]
  },
  {
   "cell_type": "code",
   "execution_count": 14,
   "metadata": {},
   "outputs": [],
   "source": [
    "train_data_loader = torch.utils.data.DataLoader(\n",
    "    train_dataset,\n",
    "    shuffle=True,\n",
    "    batch_size=TRAIN_BATCH_SIZE\n",
    ")\n",
    "\n",
    "val_data_loader = torch.utils.data.DataLoader(\n",
    "    valid_dataset,\n",
    "    shuffle=False,\n",
    "    batch_size=VALID_BATCH_SIZE\n",
    ")"
   ]
  },
  {
   "cell_type": "markdown",
   "metadata": {},
   "source": [
    "# Define sentiment classifier using BERT:"
   ]
  },
  {
   "cell_type": "code",
   "execution_count": 15,
   "metadata": {},
   "outputs": [],
   "source": [
    "class SentimentClassifier(nn.Module):\n",
    "    def __init__(self):\n",
    "        super(SentimentClassifier,self).__init__()\n",
    "        self.bert = BertModel.from_pretrained('bert-base-uncased')\n",
    "        self.drop0 = nn.Dropout(0.25)\n",
    "        self.linear1 = nn.Linear(3072,512)\n",
    "        self.relu1 = nn.ReLU()\n",
    "        self.drop1 = nn.Dropout(0.25)\n",
    "        self.linear2 = nn.Linear(512,3)\n",
    "        \n",
    "    def forward(self,input_ids,attention_mask):\n",
    "        outputs = self.bert(input_ids,attention_mask)\n",
    "        last_hidden_state = outputs[0]\n",
    "        pooled_output = torch.cat(tuple([last_hidden_state[:,i] for i in [-4,-3,-2,-1]]),dim=-1)\n",
    "        x = self.drop0(pooled_output)\n",
    "        x = self.relu1(self.linear1(x))\n",
    "        x = self.drop1(x)\n",
    "        x = self.linear2(x) \n",
    "        return x\n",
    "        "
   ]
  },
  {
   "cell_type": "markdown",
   "metadata": {},
   "source": [
    "# Train the classifier:"
   ]
  },
  {
   "cell_type": "code",
   "execution_count": null,
   "metadata": {},
   "outputs": [],
   "source": [
    "# Initialize classifiers:\n",
    "model = SentimentClassifier()\n",
    "\n",
    "# Define the optimizer function:\n",
    "criterion = nn.CrossEntropyLoss()\n",
    "optimizer = optim.AdamW(model.parameters(), lr=1e-4)\n",
    "epochs = 10\n",
    "\n",
    "# Define schedular to set optimizer parameters after each epochs\n",
    "scheduler = StepLR(optimizer, step_size=1, gamma=0.7)\n",
    "\n",
    "# -----------TRAINING--------\n",
    "\n",
    "for epoch in range(epochs):\n",
    "    # TRAIN\n",
    "    model.train()\n",
    "    # Initialize progress bar\n",
    "    train_loop = tqdm(train_data_loader, desc=f\"Training Epoch {epoch+1}\", leave=True)\n",
    "    # Iterate over batches\n",
    "    for batch in train_loop:\n",
    "        optimizer.zero_grad()\n",
    "        input_ids = batch['inputs_ids']\n",
    "        attention_mask = batch['attention_mask']\n",
    "        labels = batch['labels']\n",
    "        output = model(input_ids,attention_mask)\n",
    "        loss = criterion(output,labels)\n",
    "        loss.backward()\n",
    "        nn.utils.clip_grad_norm_(model.parameters(), max_norm=1.0)       \n",
    "        optimizer.step()\n",
    "\n",
    "        train_loop.set_description(f'Training Epoch: {epoch}')\n",
    "        train_loop.set_postfix(loss=loss.item())\n",
    "    scheduler.step()"
   ]
  },
  {
   "cell_type": "code",
   "execution_count": null,
   "metadata": {},
   "outputs": [],
   "source": []
  },
  {
   "cell_type": "markdown",
   "metadata": {},
   "source": [
    "# Prediction on user input comments:"
   ]
  },
  {
   "cell_type": "code",
   "execution_count": 34,
   "metadata": {},
   "outputs": [
    {
     "name": "stdout",
     "output_type": "stream",
     "text": [
      "Test sample: My parrents will not allow to buy this phone for huge price but it has very good features\n",
      "Original label: 2\n",
      "Prediction: 2\n"
     ]
    }
   ],
   "source": [
    "test_sample = 'My parrents will not allow to buy this phone for huge price but it has very good features'\n",
    "original_label = 2\n",
    "print(f'Test sample: {test_sample}')\n",
    "print(f'Original label: {original_label}')\n",
    "\n",
    "encode = tokenizer.encode_plus(\n",
    "    test_sample,\n",
    "    add_special_tokens=True,\n",
    "    max_length = 256,\n",
    "    padding='max_length',\n",
    "    truncation=True,\n",
    "    return_attention_mask=True,\n",
    "    return_tensors='pt'\n",
    ")\n",
    "\n",
    "with torch.no_grad():\n",
    "    preds = model(encode['input_ids'],encode['attention_mask'])\n",
    "    preds = np.argmax(preds)\n",
    "    output = preds.item()\n",
    "    print(f'Prediction: {output}')"
   ]
  },
  {
   "cell_type": "markdown",
   "metadata": {},
   "source": [
    "# Save the model and tokenizer for future prediction and deploying the model:"
   ]
  },
  {
   "cell_type": "code",
   "execution_count": 23,
   "metadata": {},
   "outputs": [],
   "source": [
    "# Save the trained model\n",
    "torch.save(model, 'SentimentBERT_model_complete.pth')"
   ]
  },
  {
   "cell_type": "code",
   "execution_count": null,
   "metadata": {},
   "outputs": [],
   "source": [
    "# Save the tokenizer\n",
    "tokenizer.save_pretrained('/user1/student/mtc/mtc2023/cs2326/Project_Works')"
   ]
  },
  {
   "cell_type": "code",
   "execution_count": null,
   "metadata": {},
   "outputs": [],
   "source": []
  },
  {
   "cell_type": "code",
   "execution_count": null,
   "metadata": {},
   "outputs": [],
   "source": []
  },
  {
   "cell_type": "code",
   "execution_count": null,
   "metadata": {},
   "outputs": [],
   "source": []
  },
  {
   "cell_type": "code",
   "execution_count": null,
   "metadata": {},
   "outputs": [],
   "source": []
  },
  {
   "cell_type": "code",
   "execution_count": null,
   "metadata": {},
   "outputs": [],
   "source": []
  },
  {
   "cell_type": "code",
   "execution_count": null,
   "metadata": {},
   "outputs": [],
   "source": []
  },
  {
   "cell_type": "code",
   "execution_count": null,
   "metadata": {},
   "outputs": [],
   "source": []
  }
 ],
 "metadata": {
  "kernelspec": {
   "display_name": "base",
   "language": "python",
   "name": "python3"
  },
  "language_info": {
   "codemirror_mode": {
    "name": "ipython",
    "version": 3
   },
   "file_extension": ".py",
   "mimetype": "text/x-python",
   "name": "python",
   "nbconvert_exporter": "python",
   "pygments_lexer": "ipython3",
   "version": "3.12.4"
  }
 },
 "nbformat": 4,
 "nbformat_minor": 2
}
